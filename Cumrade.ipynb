{
 "cells": [
  {
   "cell_type": "code",
   "execution_count": 1,
   "metadata": {},
   "outputs": [],
   "source": [
    "import requests\n",
    "from bs4 import BeautifulSoup\n",
    "import re\n",
    "import numpy as np\n",
    "import pandas as pd"
   ]
  },
  {
   "cell_type": "code",
   "execution_count": 2,
   "metadata": {},
   "outputs": [],
   "source": [
    "def gen_link(id):\n",
    "    return f'https://chaturbot.co/reddit_nsfw_index?page={id}'\n",
    "\n",
    "\n",
    "def find_commies(req_text):\n",
    "    return re.findall(string=req_text, pattern=r'href=[\\'\"]?(https://reddit.com[^\\'\" >]+)')"
   ]
  },
  {
   "cell_type": "code",
   "execution_count": 3,
   "metadata": {},
   "outputs": [
    {
     "data": {
      "text/plain": [
       "['https://reddit.com/r/gonewild',\n",
       " 'https://reddit.com/r/nsfw',\n",
       " 'https://reddit.com/r/RealGirls',\n",
       " 'https://reddit.com/r/NSFW_GIF',\n",
       " 'https://reddit.com/r/LegalTeens']"
      ]
     },
     "execution_count": 3,
     "metadata": {},
     "output_type": "execute_result"
    }
   ],
   "source": [
    "reddits = list()\n",
    "\n",
    "\n",
    "for i in range(1, 50):\n",
    "    for reddit in find_commies(requests.get(gen_link(i)).text):\n",
    "        reddits.append(reddit)\n",
    "\n",
    "reddits[:5]"
   ]
  },
  {
   "cell_type": "code",
   "execution_count": 4,
   "metadata": {},
   "outputs": [
    {
     "data": {
      "text/plain": [
       "2450"
      ]
     },
     "execution_count": 4,
     "metadata": {},
     "output_type": "execute_result"
    }
   ],
   "source": [
    "len(reddits)"
   ]
  },
  {
   "cell_type": "code",
   "execution_count": 5,
   "metadata": {},
   "outputs": [],
   "source": [
    "reddits = pd.DataFrame(reddits, columns=['subreddit'])"
   ]
  },
  {
   "cell_type": "code",
   "execution_count": 6,
   "metadata": {},
   "outputs": [
    {
     "data": {
      "text/plain": [
       "<sqlalchemy.engine.base.Connection at 0x7ff269ab8400>"
      ]
     },
     "execution_count": 6,
     "metadata": {},
     "output_type": "execute_result"
    }
   ],
   "source": [
    "# Database\n",
    "from sqlalchemy import create_engine\n",
    "\n",
    "engine = create_engine('sqlite://///Users/andersrye/Dropbox/Code/Python/RedditRandomNSFW/cumrade/subreddits.db')\n",
    "engine.connect()"
   ]
  },
  {
   "cell_type": "code",
   "execution_count": 8,
   "metadata": {},
   "outputs": [
    {
     "data": {
      "text/html": [
       "<div>\n",
       "<style scoped>\n",
       "    .dataframe tbody tr th:only-of-type {\n",
       "        vertical-align: middle;\n",
       "    }\n",
       "\n",
       "    .dataframe tbody tr th {\n",
       "        vertical-align: top;\n",
       "    }\n",
       "\n",
       "    .dataframe thead th {\n",
       "        text-align: right;\n",
       "    }\n",
       "</style>\n",
       "<table border=\"1\" class=\"dataframe\">\n",
       "  <thead>\n",
       "    <tr style=\"text-align: right;\">\n",
       "      <th></th>\n",
       "      <th>subreddit</th>\n",
       "    </tr>\n",
       "  </thead>\n",
       "  <tbody>\n",
       "    <tr>\n",
       "      <th>0</th>\n",
       "      <td>https://reddit.com/r/gonewild</td>\n",
       "    </tr>\n",
       "    <tr>\n",
       "      <th>1</th>\n",
       "      <td>https://reddit.com/r/nsfw</td>\n",
       "    </tr>\n",
       "    <tr>\n",
       "      <th>2</th>\n",
       "      <td>https://reddit.com/r/RealGirls</td>\n",
       "    </tr>\n",
       "    <tr>\n",
       "      <th>3</th>\n",
       "      <td>https://reddit.com/r/NSFW_GIF</td>\n",
       "    </tr>\n",
       "    <tr>\n",
       "      <th>4</th>\n",
       "      <td>https://reddit.com/r/LegalTeens</td>\n",
       "    </tr>\n",
       "    <tr>\n",
       "      <th>...</th>\n",
       "      <td>...</td>\n",
       "    </tr>\n",
       "    <tr>\n",
       "      <th>2445</th>\n",
       "      <td>https://reddit.com/r/Amira_Brie</td>\n",
       "    </tr>\n",
       "    <tr>\n",
       "      <th>2446</th>\n",
       "      <td>https://reddit.com/r/FappingBuds</td>\n",
       "    </tr>\n",
       "    <tr>\n",
       "      <th>2447</th>\n",
       "      <td>https://reddit.com/r/GirlsRimGuys</td>\n",
       "    </tr>\n",
       "    <tr>\n",
       "      <th>2448</th>\n",
       "      <td>https://reddit.com/r/forearmporn</td>\n",
       "    </tr>\n",
       "    <tr>\n",
       "      <th>2449</th>\n",
       "      <td>https://reddit.com/r/doublevaginal</td>\n",
       "    </tr>\n",
       "  </tbody>\n",
       "</table>\n",
       "<p>2450 rows × 1 columns</p>\n",
       "</div>"
      ],
      "text/plain": [
       "                               subreddit\n",
       "0          https://reddit.com/r/gonewild\n",
       "1              https://reddit.com/r/nsfw\n",
       "2         https://reddit.com/r/RealGirls\n",
       "3          https://reddit.com/r/NSFW_GIF\n",
       "4        https://reddit.com/r/LegalTeens\n",
       "...                                  ...\n",
       "2445     https://reddit.com/r/Amira_Brie\n",
       "2446    https://reddit.com/r/FappingBuds\n",
       "2447   https://reddit.com/r/GirlsRimGuys\n",
       "2448    https://reddit.com/r/forearmporn\n",
       "2449  https://reddit.com/r/doublevaginal\n",
       "\n",
       "[2450 rows x 1 columns]"
      ]
     },
     "execution_count": 8,
     "metadata": {},
     "output_type": "execute_result"
    }
   ],
   "source": [
    "reddits"
   ]
  },
  {
   "cell_type": "code",
   "execution_count": 7,
   "metadata": {},
   "outputs": [],
   "source": [
    "reddits.to_sql('subreddit', con=engine, if_exists='replace', index_label='id')"
   ]
  }
 ],
 "metadata": {
  "kernelspec": {
   "display_name": "Python 3",
   "language": "python",
   "name": "python3"
  },
  "language_info": {
   "codemirror_mode": {
    "name": "ipython",
    "version": 3
   },
   "file_extension": ".py",
   "mimetype": "text/x-python",
   "name": "python",
   "nbconvert_exporter": "python",
   "pygments_lexer": "ipython3",
   "version": "3.8.5"
  }
 },
 "nbformat": 4,
 "nbformat_minor": 4
}
